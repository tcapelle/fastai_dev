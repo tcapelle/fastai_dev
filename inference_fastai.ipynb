{
 "cells": [
  {
   "cell_type": "code",
   "execution_count": 1,
   "id": "42a5211a-a4d9-42f2-a6c0-6f0a4ee18503",
   "metadata": {},
   "outputs": [],
   "source": [
    "import wandb, argparse\n",
    "from fastai.vision.all import *\n",
    "from fastai.callback.wandb import WandbCallback\n",
    "\n",
    "path = untar_data(URLs.PETS)/'images'"
   ]
  },
  {
   "cell_type": "code",
   "execution_count": 2,
   "id": "08473c70-5dff-4d8b-a4c7-46cf3cf86097",
   "metadata": {},
   "outputs": [],
   "source": [
    "def get_dls(bs, image_size, batch_tfms=None, pin_memory=False, num_workers=4):\n",
    "    dataset_path = untar_data(URLs.PETS)\n",
    "    files = get_image_files(dataset_path/\"images\")\n",
    "    dls = ImageDataLoaders.from_name_re(\n",
    "            dataset_path, files, r'(^[a-zA-Z]+_*[a-zA-Z]+)', valid_pct=0.2,\n",
    "            seed=1234, bs=bs, item_tfms=Resize(image_size), batch_tfms=batch_tfms, \n",
    "            pin_memory=pin_memory, num_workers=num_workers)\n",
    "    return dls"
   ]
  },
  {
   "cell_type": "code",
   "execution_count": 3,
   "id": "c8125054-c8cd-4a57-8c5b-fa493126b0a5",
   "metadata": {},
   "outputs": [],
   "source": [
    "dls = get_dls(128, 224)"
   ]
  },
  {
   "cell_type": "code",
   "execution_count": 4,
   "id": "75a52db0-f96a-4eca-b09b-16dd3c89b857",
   "metadata": {},
   "outputs": [],
   "source": [
    "cbs = [SaveModelCallback(), \n",
    "       #the name you git in the WandbCallback overrides the one from the\n",
    "       #SaveModelCallback, so don't pass anything\n",
    "       WandbCallback(log_model=True, model_name=\"my_model\")]  #it will put the .pth\n",
    "learn = vision_learner(\n",
    "    dls, \n",
    "    \"regnetx_032\", \n",
    "    metrics=error_rate, \n",
    "    cbs=cbs,\n",
    "    path=\".\", #this saves the model in the local models/ folder\n",
    ").to_fp16()"
   ]
  },
  {
   "cell_type": "code",
   "execution_count": 5,
   "id": "a20dcfc8-3b59-4e43-9ba3-1981a00fd636",
   "metadata": {},
   "outputs": [
    {
     "data": {
      "text/html": [
       "<h2 id=\"WandbCallback\" class=\"doc_header\"><code>class</code> <code>WandbCallback</code><a href=\"https://github.com/fastai/fastai/tree/master/fastai/callback/wandb.py#L22\" class=\"source_link\" style=\"float:right\">[source]</a></h2><blockquote><p><code>WandbCallback</code>(<strong><code>log</code></strong>:<code>str</code>=<em><code>None</code></em>, <strong><code>log_preds</code></strong>:<code>bool</code>=<em><code>True</code></em>, <strong><code>log_preds_every_epoch</code></strong>:<code>bool</code>=<em><code>False</code></em>, <strong><code>log_model</code></strong>:<code>bool</code>=<em><code>False</code></em>, <strong><code>model_name</code></strong>:<code>str</code>=<em><code>None</code></em>, <strong><code>log_dataset</code></strong>:<code>bool</code>=<em><code>False</code></em>, <strong><code>dataset_name</code></strong>:<code>str</code>=<em><code>None</code></em>, <strong><code>valid_dl</code></strong>:<code>TfmdDL</code>=<em><code>None</code></em>, <strong><code>n_preds</code></strong>:<code>int</code>=<em><code>36</code></em>, <strong><code>seed</code></strong>:<code>int</code>=<em><code>12345</code></em>, <strong><code>reorder</code></strong>=<em><code>True</code></em>) :: <code>Callback</code></p>\n",
       "</blockquote>\n",
       "<p>Saves model topology, losses &amp; metrics</p>\n",
       "<table>\n",
       "<thead><tr>\n",
       "<th></th>\n",
       "<th>Type</th>\n",
       "<th>Default</th>\n",
       "<th>Details</th>\n",
       "</tr>\n",
       "</thead>\n",
       "<tbody>\n",
       "<tr>\n",
       "<td><strong><code>log</code></strong></td>\n",
       "<td><code>str</code></td>\n",
       "<td><code>None</code></td>\n",
       "<td>What to log (can be <code>gradients</code>, <code>parameters</code>, <code>all</code> or None)</td>\n",
       "</tr>\n",
       "<tr>\n",
       "<td><strong><code>log_preds</code></strong></td>\n",
       "<td><code>bool</code></td>\n",
       "<td><code>True</code></td>\n",
       "<td>Whether to log model predictions on a <code>wandb.Table</code></td>\n",
       "</tr>\n",
       "<tr>\n",
       "<td><strong><code>log_preds_every_epoch</code></strong></td>\n",
       "<td><code>bool</code></td>\n",
       "<td><code>False</code></td>\n",
       "<td>Whether to log predictions every epoch or at the end</td>\n",
       "</tr>\n",
       "<tr>\n",
       "<td><strong><code>log_model</code></strong></td>\n",
       "<td><code>bool</code></td>\n",
       "<td><code>False</code></td>\n",
       "<td>Whether to save the model checkpoint to a <code>wandb.Artifact</code></td>\n",
       "</tr>\n",
       "<tr>\n",
       "<td><strong><code>model_name</code></strong></td>\n",
       "<td><code>str</code></td>\n",
       "<td><code>None</code></td>\n",
       "<td>The name of the <code>model_name</code> to save, overrides <code>SaveModelCallback</code></td>\n",
       "</tr>\n",
       "<tr>\n",
       "<td><strong><code>log_dataset</code></strong></td>\n",
       "<td><code>bool</code></td>\n",
       "<td><code>False</code></td>\n",
       "<td>Whether to log the dataset to a <code>wandb.Artifact</code></td>\n",
       "</tr>\n",
       "<tr>\n",
       "<td><strong><code>dataset_name</code></strong></td>\n",
       "<td><code>str</code></td>\n",
       "<td><code>None</code></td>\n",
       "<td>A name to log the dataset with</td>\n",
       "</tr>\n",
       "<tr>\n",
       "<td><strong><code>valid_dl</code></strong></td>\n",
       "<td><code>TfmdDL</code></td>\n",
       "<td><code>None</code></td>\n",
       "<td>If <code>log_preds=True</code>, then the samples will be drawn from <code>valid_dl</code></td>\n",
       "</tr>\n",
       "<tr>\n",
       "<td><strong><code>n_preds</code></strong></td>\n",
       "<td><code>int</code></td>\n",
       "<td><code>36</code></td>\n",
       "<td>How many samples to log predictions</td>\n",
       "</tr>\n",
       "<tr>\n",
       "<td><strong><code>seed</code></strong></td>\n",
       "<td><code>int</code></td>\n",
       "<td><code>12345</code></td>\n",
       "<td>The seed of the samples drawn</td>\n",
       "</tr>\n",
       "<tr>\n",
       "<td><strong><code>reorder</code></strong></td>\n",
       "<td><code>bool</code></td>\n",
       "<td><code>True</code></td>\n",
       "<td><em>No Content</em></td>\n",
       "</tr>\n",
       "</tbody>\n",
       "</table>\n",
       "<p><a href=\"https://docs.fast.ai/callback.wandb#WandbCallback\" target=\"_blank\" rel=\"noreferrer noopener\">Show in docs</a></p>\n",
       "<style>\n",
       "    table { border-collapse: collapse; border:thin solid #dddddd; margin: 25px 0px; ; }\n",
       "    table tr:first-child { background-color: #FFF}\n",
       "    table thead th { background-color: #eee; color: #000; text-align: center;}\n",
       "    tr, th, td { border: 1px solid #ccc; border-width: 1px 0 0 1px; border-collapse: collapse;\n",
       "    padding: 5px; }\n",
       "    tr:nth-child(even) {background: #eee;}</style>"
      ]
     },
     "metadata": {},
     "output_type": "display_data"
    }
   ],
   "source": [
    "doc(WandbCallback)"
   ]
  },
  {
   "cell_type": "code",
   "execution_count": 6,
   "id": "befa53d7-f352-408e-b05d-7c5a42158d17",
   "metadata": {},
   "outputs": [
    {
     "name": "stderr",
     "output_type": "stream",
     "text": [
      "Failed to detect the name of this notebook, you can set it manually with the WANDB_NOTEBOOK_NAME environment variable to enable code saving.\n",
      "\u001b[34m\u001b[1mwandb\u001b[0m: Currently logged in as: \u001b[33mcapecape\u001b[0m. Use \u001b[1m`wandb login --relogin`\u001b[0m to force relogin\n"
     ]
    },
    {
     "data": {
      "text/html": [
       "Tracking run with wandb version 0.12.17"
      ],
      "text/plain": [
       "<IPython.core.display.HTML object>"
      ]
     },
     "metadata": {},
     "output_type": "display_data"
    },
    {
     "data": {
      "text/html": [
       "Run data is saved locally in <code>/home/tcapelle/wandb/wandb/run-20220609_163813-8zam8idk</code>"
      ],
      "text/plain": [
       "<IPython.core.display.HTML object>"
      ]
     },
     "metadata": {},
     "output_type": "display_data"
    },
    {
     "data": {
      "text/html": [
       "Syncing run <strong><a href=\"https://wandb.ai/capecape/inference_fastai/runs/8zam8idk\" target=\"_blank\">quiet-snowball-5</a></strong> to <a href=\"https://wandb.ai/capecape/inference_fastai\" target=\"_blank\">Weights & Biases</a> (<a href=\"https://wandb.me/run\" target=\"_blank\">docs</a>)<br/>"
      ],
      "text/plain": [
       "<IPython.core.display.HTML object>"
      ]
     },
     "metadata": {},
     "output_type": "display_data"
    },
    {
     "data": {
      "text/html": [
       "\n",
       "<style>\n",
       "    /* Turns off some styling */\n",
       "    progress {\n",
       "        /* gets rid of default border in Firefox and Opera. */\n",
       "        border: none;\n",
       "        /* Needs to be in here for Safari polyfill so background images work as expected. */\n",
       "        background-size: auto;\n",
       "    }\n",
       "    .progress-bar-interrupted, .progress-bar-interrupted::-webkit-progress-bar {\n",
       "        background: #F44336;\n",
       "    }\n",
       "</style>\n"
      ],
      "text/plain": [
       "<IPython.core.display.HTML object>"
      ]
     },
     "metadata": {},
     "output_type": "display_data"
    },
    {
     "data": {
      "text/html": [
       "<table border=\"1\" class=\"dataframe\">\n",
       "  <thead>\n",
       "    <tr style=\"text-align: left;\">\n",
       "      <th>epoch</th>\n",
       "      <th>train_loss</th>\n",
       "      <th>valid_loss</th>\n",
       "      <th>error_rate</th>\n",
       "      <th>time</th>\n",
       "    </tr>\n",
       "  </thead>\n",
       "  <tbody>\n",
       "    <tr>\n",
       "      <td>0</td>\n",
       "      <td>0.861552</td>\n",
       "      <td>0.244109</td>\n",
       "      <td>0.071042</td>\n",
       "      <td>00:17</td>\n",
       "    </tr>\n",
       "  </tbody>\n",
       "</table>"
      ],
      "text/plain": [
       "<IPython.core.display.HTML object>"
      ]
     },
     "metadata": {},
     "output_type": "display_data"
    },
    {
     "name": "stdout",
     "output_type": "stream",
     "text": [
      "Better model found at epoch 0 with valid_loss value: 0.24410924315452576.\n"
     ]
    },
    {
     "data": {
      "text/html": [
       "Waiting for W&B process to finish... <strong style=\"color:green\">(success).</strong>"
      ],
      "text/plain": [
       "<IPython.core.display.HTML object>"
      ]
     },
     "metadata": {},
     "output_type": "display_data"
    },
    {
     "data": {
      "application/vnd.jupyter.widget-view+json": {
       "model_id": "",
       "version_major": 2,
       "version_minor": 0
      },
      "text/plain": [
       "VBox(children=(Label(value='61.781 MB of 61.781 MB uploaded (0.000 MB deduped)\\r'), FloatProgress(value=1.0, m…"
      ]
     },
     "metadata": {},
     "output_type": "display_data"
    },
    {
     "data": {
      "text/html": [
       "<style>\n",
       "    table.wandb td:nth-child(1) { padding: 0 10px; text-align: left ; width: auto;} td:nth-child(2) {text-align: left ; width: 100%}\n",
       "    .wandb-row { display: flex; flex-direction: row; flex-wrap: wrap; justify-content: flex-start; width: 100% }\n",
       "    .wandb-col { display: flex; flex-direction: column; flex-basis: 100%; flex: 1; padding: 10px; }\n",
       "    </style>\n",
       "<div class=\"wandb-row\"><div class=\"wandb-col\"><h3>Run history:</h3><br/><table class=\"wandb\"><tr><td>epoch</td><td>▁▁▁▁▂▂▂▂▂▃▃▃▃▃▄▄▄▄▄▄▅▅▅▅▅▅▆▆▆▆▆▇▇▇▇▇████</td></tr><tr><td>eps_0</td><td>▁▁▁▁▁▁▁▁▁▁▁▁▁▁▁▁▁▁▁▁▁▁▁▁▁▁▁▁▁▁▁▁▁▁▁▁▁▁▁▁</td></tr><tr><td>eps_1</td><td>▁▁▁▁▁▁▁▁▁▁▁▁▁▁▁▁▁▁▁▁▁▁▁▁▁▁▁▁▁▁▁▁▁▁▁▁▁▁▁▁</td></tr><tr><td>error_rate</td><td>▁</td></tr><tr><td>lr_0</td><td>▁▁▁▁▁▁▁▁▁▁▁▁▁▁▁▁▁▁▁▁▁▁▁▁▁▁▁▁▁▁▁▁▁▁▁▁▁▁▁▁</td></tr><tr><td>lr_1</td><td>▁▁▁▁▁▁▁▁▁▁▁▁▁▁▁▁▁▁▁▁▁▁▁▁▁▁▁▁▁▁▁▁▁▁▁▁▁▁▁▁</td></tr><tr><td>mom_0</td><td>▁▁▁▁▁▁▁▁▁▁▁▁▁▁▁▁▁▁▁▁▁▁▁▁▁▁▁▁▁▁▁▁▁▁▁▁▁▁▁▁</td></tr><tr><td>mom_1</td><td>▁▁▁▁▁▁▁▁▁▁▁▁▁▁▁▁▁▁▁▁▁▁▁▁▁▁▁▁▁▁▁▁▁▁▁▁▁▁▁▁</td></tr><tr><td>raw_loss</td><td>█▇▆▅▄▃▄▃▂▂▂▂▂▂▂▁▁▁▁▁▁▁▁▁▁▁▁▁▁▁▁▁▁▁▁▁▁▁▁▁</td></tr><tr><td>sqr_mom_0</td><td>▁▁▁▁▁▁▁▁▁▁▁▁▁▁▁▁▁▁▁▁▁▁▁▁▁▁▁▁▁▁▁▁▁▁▁▁▁▁▁▁</td></tr><tr><td>sqr_mom_1</td><td>▁▁▁▁▁▁▁▁▁▁▁▁▁▁▁▁▁▁▁▁▁▁▁▁▁▁▁▁▁▁▁▁▁▁▁▁▁▁▁▁</td></tr><tr><td>train_loss</td><td>█▇▇▆▅▅▅▄▄▄▃▃▃▃▃▂▂▂▂▂▂▂▂▂▂▂▂▁▁▁▁▁▁▁▁▁▁▁▁▁</td></tr><tr><td>train_samples_per_sec</td><td>▁███████████████████████████████████████</td></tr><tr><td>valid_loss</td><td>▁</td></tr><tr><td>wd_0</td><td>▁▁▁▁▁▁▁▁▁▁▁▁▁▁▁▁▁▁▁▁▁▁▁▁▁▁▁▁▁▁▁▁▁▁▁▁▁▁▁▁</td></tr><tr><td>wd_1</td><td>▁▁▁▁▁▁▁▁▁▁▁▁▁▁▁▁▁▁▁▁▁▁▁▁▁▁▁▁▁▁▁▁▁▁▁▁▁▁▁▁</td></tr></table><br/></div><div class=\"wandb-col\"><h3>Run summary:</h3><br/><table class=\"wandb\"><tr><td>epoch</td><td>1</td></tr><tr><td>eps_0</td><td>1e-05</td></tr><tr><td>eps_1</td><td>1e-05</td></tr><tr><td>error_rate</td><td>0.07104</td></tr><tr><td>lr_0</td><td>0.001</td></tr><tr><td>lr_1</td><td>0.001</td></tr><tr><td>mom_0</td><td>0.9</td></tr><tr><td>mom_1</td><td>0.9</td></tr><tr><td>raw_loss</td><td>0.4869</td></tr><tr><td>sqr_mom_0</td><td>0.99</td></tr><tr><td>sqr_mom_1</td><td>0.99</td></tr><tr><td>train_loss</td><td>0.86155</td></tr><tr><td>train_samples_per_sec</td><td>718.02722</td></tr><tr><td>valid_loss</td><td>0.24411</td></tr><tr><td>wd_0</td><td>0.01</td></tr><tr><td>wd_1</td><td>0.01</td></tr></table><br/></div></div>"
      ],
      "text/plain": [
       "<IPython.core.display.HTML object>"
      ]
     },
     "metadata": {},
     "output_type": "display_data"
    },
    {
     "data": {
      "text/html": [
       "Synced <strong style=\"color:#cdcd00\">quiet-snowball-5</strong>: <a href=\"https://wandb.ai/capecape/inference_fastai/runs/8zam8idk\" target=\"_blank\">https://wandb.ai/capecape/inference_fastai/runs/8zam8idk</a><br/>Synced 6 W&B file(s), 1 media file(s), 38 artifact file(s) and 0 other file(s)"
      ],
      "text/plain": [
       "<IPython.core.display.HTML object>"
      ]
     },
     "metadata": {},
     "output_type": "display_data"
    },
    {
     "data": {
      "text/html": [
       "Find logs at: <code>./wandb/run-20220609_163813-8zam8idk/logs</code>"
      ],
      "text/plain": [
       "<IPython.core.display.HTML object>"
      ]
     },
     "metadata": {},
     "output_type": "display_data"
    }
   ],
   "source": [
    "with wandb.init(project='inference_fastai', job_type=\"train\"):\n",
    "    learn.fit(1)"
   ]
  },
  {
   "cell_type": "markdown",
   "id": "b2fe75d5-863f-4d19-97a0-95151baace63",
   "metadata": {},
   "source": [
    "we can load the model back if we have a learner created"
   ]
  },
  {
   "cell_type": "code",
   "execution_count": 7,
   "id": "3a106a09-8b3e-4a21-90e0-d42b14f6c7f3",
   "metadata": {},
   "outputs": [
    {
     "data": {
      "text/plain": [
       "<fastai.learner.Learner at 0x7f8900917fa0>"
      ]
     },
     "execution_count": 7,
     "metadata": {},
     "output_type": "execute_result"
    }
   ],
   "source": [
    "learn.load(\"my_model\")"
   ]
  },
  {
   "cell_type": "markdown",
   "id": "e1c5302e-5120-4ed2-8d43-d1e11031237c",
   "metadata": {},
   "source": [
    "We can download the model from the artifact:"
   ]
  },
  {
   "cell_type": "code",
   "execution_count": 8,
   "id": "a42b9c67-fd22-4a6b-b206-940cd689b174",
   "metadata": {},
   "outputs": [
    {
     "name": "stderr",
     "output_type": "stream",
     "text": [
      "\u001b[34m\u001b[1mwandb\u001b[0m: Downloading large artifact my_model:latest, 58.96MB. 1 files... Done. 0:0:0\n"
     ]
    }
   ],
   "source": [
    "api = wandb.Api()\n",
    "artifact = api.artifact('capecape/inference_fastai/my_model:latest')\n",
    "artifact_dir = artifact.download()"
   ]
  },
  {
   "cell_type": "code",
   "execution_count": 9,
   "id": "500c4a7d-3b4b-43e5-a600-6288a83ab421",
   "metadata": {},
   "outputs": [
    {
     "data": {
      "text/plain": [
       "(#1) [Path('artifacts/my_model:v2/my_model.pth')]"
      ]
     },
     "execution_count": 9,
     "metadata": {},
     "output_type": "execute_result"
    }
   ],
   "source": [
    "Path(artifact_dir).ls()"
   ]
  },
  {
   "cell_type": "markdown",
   "id": "6f1f6ef1-0afa-49fd-b51a-53fc1f8cab50",
   "metadata": {},
   "source": [
    "it works 😎 (this guy wants a full path)"
   ]
  },
  {
   "cell_type": "code",
   "execution_count": 10,
   "id": "53d65a56-9954-48bd-8703-be9904c576cb",
   "metadata": {},
   "outputs": [
    {
     "data": {
      "text/plain": [
       "<fastai.learner.Learner at 0x7f8900917fa0>"
      ]
     },
     "execution_count": 10,
     "metadata": {},
     "output_type": "execute_result"
    }
   ],
   "source": [
    "learn.load(Path(artifact_dir).absolute()/\"my_model\")"
   ]
  },
  {
   "cell_type": "markdown",
   "id": "fa8a0e38-4da9-429f-85de-24821d8d3992",
   "metadata": {},
   "source": [
    "## Exporting the Learner"
   ]
  },
  {
   "cell_type": "code",
   "execution_count": 15,
   "id": "64e0b0f9-7be3-4c66-9896-de61f78fa0c5",
   "metadata": {},
   "outputs": [],
   "source": [
    "learn.export(\"learner.pkl\")"
   ]
  },
  {
   "cell_type": "code",
   "execution_count": 16,
   "id": "d5430c69-0b1a-4bce-b429-d2f24e63cf10",
   "metadata": {},
   "outputs": [],
   "source": [
    "at = wandb.Artifact(\"Model_learner\", \n",
    "                    type=\"model\", \n",
    "                    description=\"The fastai learner object\")"
   ]
  },
  {
   "cell_type": "code",
   "execution_count": 17,
   "id": "6992cd7e-805d-443f-bc03-5ba3115766ec",
   "metadata": {},
   "outputs": [
    {
     "data": {
      "text/plain": [
       "<ManifestEntry digest: J/UhNxdIrht2oc6COvNjxg==>"
      ]
     },
     "execution_count": 17,
     "metadata": {},
     "output_type": "execute_result"
    }
   ],
   "source": [
    "at.add_file(\"learner.pkl\")"
   ]
  },
  {
   "cell_type": "code",
   "execution_count": 18,
   "id": "052ef0bc-49b8-452b-abe0-72e043ec7279",
   "metadata": {},
   "outputs": [
    {
     "data": {
      "text/html": [
       "Tracking run with wandb version 0.12.17"
      ],
      "text/plain": [
       "<IPython.core.display.HTML object>"
      ]
     },
     "metadata": {},
     "output_type": "display_data"
    },
    {
     "data": {
      "text/html": [
       "Run data is saved locally in <code>/home/tcapelle/wandb/wandb/run-20220609_164225-3wnn61pz</code>"
      ],
      "text/plain": [
       "<IPython.core.display.HTML object>"
      ]
     },
     "metadata": {},
     "output_type": "display_data"
    },
    {
     "data": {
      "text/html": [
       "Syncing run <strong><a href=\"https://wandb.ai/capecape/inference_fastai/runs/3wnn61pz\" target=\"_blank\">polished-sun-7</a></strong> to <a href=\"https://wandb.ai/capecape/inference_fastai\" target=\"_blank\">Weights & Biases</a> (<a href=\"https://wandb.me/run\" target=\"_blank\">docs</a>)<br/>"
      ],
      "text/plain": [
       "<IPython.core.display.HTML object>"
      ]
     },
     "metadata": {},
     "output_type": "display_data"
    },
    {
     "data": {
      "text/html": [
       "Waiting for W&B process to finish... <strong style=\"color:green\">(success).</strong>"
      ],
      "text/plain": [
       "<IPython.core.display.HTML object>"
      ]
     },
     "metadata": {},
     "output_type": "display_data"
    },
    {
     "data": {
      "application/vnd.jupyter.widget-view+json": {
       "model_id": "",
       "version_major": 2,
       "version_minor": 0
      },
      "text/plain": [
       "VBox(children=(Label(value='59.218 MB of 59.218 MB uploaded (0.000 MB deduped)\\r'), FloatProgress(value=1.0, m…"
      ]
     },
     "metadata": {},
     "output_type": "display_data"
    },
    {
     "data": {
      "text/html": [
       "Synced <strong style=\"color:#cdcd00\">polished-sun-7</strong>: <a href=\"https://wandb.ai/capecape/inference_fastai/runs/3wnn61pz\" target=\"_blank\">https://wandb.ai/capecape/inference_fastai/runs/3wnn61pz</a><br/>Synced 5 W&B file(s), 0 media file(s), 1 artifact file(s) and 0 other file(s)"
      ],
      "text/plain": [
       "<IPython.core.display.HTML object>"
      ]
     },
     "metadata": {},
     "output_type": "display_data"
    },
    {
     "data": {
      "text/html": [
       "Find logs at: <code>./wandb/run-20220609_164225-3wnn61pz/logs</code>"
      ],
      "text/plain": [
       "<IPython.core.display.HTML object>"
      ]
     },
     "metadata": {},
     "output_type": "display_data"
    }
   ],
   "source": [
    "with wandb.init(project='inference_fastai', job_type=\"save_learn\"):\n",
    "    wandb.log_artifact(at)"
   ]
  },
  {
   "cell_type": "code",
   "execution_count": 19,
   "id": "8e0b3b1c-e1c6-4922-b792-a556570a8896",
   "metadata": {},
   "outputs": [
    {
     "name": "stderr",
     "output_type": "stream",
     "text": [
      "\u001b[34m\u001b[1mwandb\u001b[0m: Downloading large artifact Model_learner:latest, 59.22MB. 1 files... Done. 0:0:0\n"
     ]
    }
   ],
   "source": [
    "api = wandb.Api()\n",
    "artifact = api.artifact('capecape/inference_fastai/Model_learner:latest')\n",
    "artifact_dir = artifact.download()"
   ]
  },
  {
   "cell_type": "code",
   "execution_count": 21,
   "id": "200cd74c-4451-4804-a420-7b93d491b763",
   "metadata": {},
   "outputs": [
    {
     "data": {
      "text/plain": [
       "(#1) [Path('artifacts/Model_learner:v0/learner.pkl')]"
      ]
     },
     "execution_count": 21,
     "metadata": {},
     "output_type": "execute_result"
    },
    {
     "name": "stderr",
     "output_type": "stream",
     "text": [
      "wandb: ERROR Error while calling W&B API: json: cannot unmarshal string into Go value of type map[string]interface {} (<Response [500]>)\n"
     ]
    }
   ],
   "source": [
    "Path(artifact_dir).ls()"
   ]
  },
  {
   "cell_type": "code",
   "execution_count": 23,
   "id": "241f1a15-56e8-421d-93ed-299ca4fd9051",
   "metadata": {},
   "outputs": [
    {
     "name": "stderr",
     "output_type": "stream",
     "text": [
      "wandb: ERROR Error while calling W&B API: json: cannot unmarshal string into Go value of type map[string]interface {} (<Response [500]>)\n"
     ]
    }
   ],
   "source": [
    "learn = load_learner(Path(artifact_dir)/\"learner.pkl\")"
   ]
  }
 ],
 "metadata": {
  "kernelspec": {
   "display_name": "Python 3 (ipykernel)",
   "language": "python",
   "name": "python3"
  },
  "language_info": {
   "codemirror_mode": {
    "name": "ipython",
    "version": 3
   },
   "file_extension": ".py",
   "mimetype": "text/x-python",
   "name": "python",
   "nbconvert_exporter": "python",
   "pygments_lexer": "ipython3",
   "version": "3.10.4"
  }
 },
 "nbformat": 4,
 "nbformat_minor": 5
}
